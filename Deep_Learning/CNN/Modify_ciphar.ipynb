{
 "cells": [
  {
   "cell_type": "code",
   "id": "initial_id",
   "metadata": {
    "collapsed": true,
    "ExecuteTime": {
     "end_time": "2025-06-04T16:13:15.178200Z",
     "start_time": "2025-06-04T16:13:15.174661Z"
    }
   },
   "source": [
    "import torchvision\n",
    "from torchvision import transforms\n",
    "import torch\n",
    "import pickle"
   ],
   "outputs": [],
   "execution_count": 3
  },
  {
   "metadata": {
    "ExecuteTime": {
     "end_time": "2025-06-04T17:27:55.564540Z",
     "start_time": "2025-06-04T17:26:46.463783Z"
    }
   },
   "cell_type": "code",
   "source": [
    "transform = transforms.ToTensor()\n",
    "\n",
    "train_dataset = torchvision.datasets.CIFAR10(root='./Datas/Ciphar-10', train=True, download=True, transform=transform)\n",
    "test_dataset = torchvision.datasets.CIFAR10(root='./Datas/Ciphar-10', train=False, download=True, transform=transform)\n",
    "\n",
    "pix = []\n",
    "val = []\n",
    "testpix = []\n",
    "testval = []\n",
    "\n",
    "for img, label in train_dataset:\n",
    "    pix.append(img.numpy())  # img est un tenseur de forme [3, 32, 32]\n",
    "    val.append(label)\n",
    "\n",
    "for img, label in test_dataset:\n",
    "    testpix.append(img.numpy())  # img est un tenseur de forme [3, 32, 32]\n",
    "    testval.append(label)\n",
    "\n",
    "with open(\"pixentraine_ciphar\", \"wb\") as h:\n",
    "    pickle.dump(pix, h)\n",
    "\n",
    "with open(\"valentraine_ciphar\", \"wb\") as h:\n",
    "    pickle.dump(val, h)\n",
    "\n",
    "with open(\"pixtest_ciphar\", \"wb\") as h:\n",
    "    pickle.dump(testpix, h)\n",
    "\n",
    "with open(\"valtest_ciphar\", \"wb\") as h:\n",
    "    pickle.dump(testval, h)\n"
   ],
   "id": "e234624b648dae5c",
   "outputs": [
    {
     "name": "stderr",
     "output_type": "stream",
     "text": [
      "100.0%\n"
     ]
    }
   ],
   "execution_count": 8
  },
  {
   "metadata": {},
   "cell_type": "code",
   "outputs": [],
   "execution_count": null,
   "source": "",
   "id": "e046b54c55317537"
  }
 ],
 "metadata": {
  "kernelspec": {
   "display_name": "Python 3",
   "language": "python",
   "name": "python3"
  },
  "language_info": {
   "codemirror_mode": {
    "name": "ipython",
    "version": 2
   },
   "file_extension": ".py",
   "mimetype": "text/x-python",
   "name": "python",
   "nbconvert_exporter": "python",
   "pygments_lexer": "ipython2",
   "version": "2.7.6"
  }
 },
 "nbformat": 4,
 "nbformat_minor": 5
}
