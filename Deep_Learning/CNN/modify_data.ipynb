{
 "cells": [
  {
   "cell_type": "code",
   "id": "initial_id",
   "metadata": {
    "collapsed": true
   },
   "source": [
    "import pickle\n",
    "import numpy as np"
   ],
   "outputs": [],
   "execution_count": null
  },
  {
   "metadata": {},
   "cell_type": "code",
   "source": [
    "val = []\n",
    "pix = []\n",
    "\n",
    "with open(\"Datas/fashion-mnist/fashion-mnist_test.csv\", \"r\") as f:\n",
    "    for a in f.readlines()[1:]:\n",
    "        l = a.split(\",\")\n",
    "        val.append(int(l[0]))\n",
    "        pix.append(np.array([int(i) for i in l[1:]]).reshape(784, 1))"
   ],
   "id": "5e6ccfc40f8a0bc1",
   "outputs": [],
   "execution_count": null
  },
  {
   "metadata": {},
   "cell_type": "code",
   "source": [
    "with open(\"pixentraine_fashion\", \"wb\") as h:\n",
    "    pickle.dump(pix, h)\n",
    "\n",
    "with open(\"valentraine_fashion\", \"wb\") as g:\n",
    "    pickle.dump(val, g)\n"
   ],
   "id": "d87bf3c13a7ad45a",
   "outputs": [],
   "execution_count": null
  },
  {
   "metadata": {
    "ExecuteTime": {
     "end_time": "2025-04-07T18:36:54.349706Z",
     "start_time": "2025-04-07T18:36:53.036176Z"
    }
   },
   "cell_type": "code",
   "source": [
    "def unpickle(file):\n",
    "    with open(file, 'rb') as fo:\n",
    "        dict = pickle.load(fo, encoding='bytes')\n",
    "    return dict\n",
    "\n",
    "pix = []\n",
    "val = []\n",
    "\n",
    "for i in range(1, 6):\n",
    "    d = unpickle(f\"CNN/Datas/Ciphar-10/data_batch_{i}\")\n",
    "    pix.append(d[b'data'])\n",
    "    val.append(d[b\"labels\"])\n",
    "\n",
    "pix = np.concatenate(pix, axis=0).T\n",
    "val = np.concatenate(val, axis=0)\n",
    "\n",
    "k = unpickle(\"CNN/Datas/Ciphar-10/test_batch\")\n",
    "pixtest = k[b'data'].T\n",
    "valtest = np.array(k[b'labels'])\n",
    "\n",
    "with open(\"pixentraine_cifar10\", \"wb\") as h:\n",
    "    pickle.dump(pix, h)\n",
    "\n",
    "with open(\"valentraine_cifar10\", \"wb\") as g:\n",
    "    pickle.dump(val, g)\n",
    "\n",
    "with open(\"pixtest_cifar10\", \"wb\") as g:\n",
    "    pickle.dump(pixtest, g)\n",
    "\n",
    "with open(\"valtest_cifar10\", \"wb\") as g:\n",
    "    pickle.dump(valtest, g)"
   ],
   "id": "489f74f7128c3f60",
   "outputs": [
    {
     "name": "stdout",
     "output_type": "stream",
     "text": [
      "(3072, 10000)\n"
     ]
    }
   ],
   "execution_count": 26
  }
 ],
 "metadata": {
  "kernelspec": {
   "display_name": "Python 3",
   "language": "python",
   "name": "python3"
  },
  "language_info": {
   "codemirror_mode": {
    "name": "ipython",
    "version": 2
   },
   "file_extension": ".py",
   "mimetype": "text/x-python",
   "name": "python",
   "nbconvert_exporter": "python",
   "pygments_lexer": "ipython2",
   "version": "2.7.6"
  }
 },
 "nbformat": 4,
 "nbformat_minor": 5
}
